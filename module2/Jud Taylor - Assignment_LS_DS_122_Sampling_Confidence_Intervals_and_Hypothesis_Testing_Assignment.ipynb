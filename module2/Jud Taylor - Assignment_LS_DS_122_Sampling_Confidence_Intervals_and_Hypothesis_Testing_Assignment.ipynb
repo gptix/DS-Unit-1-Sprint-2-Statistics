{
  "nbformat": 4,
  "nbformat_minor": 0,
  "metadata": {
    "colab": {
      "name": "Copy of Copy of Assignment - LS_DS_122_Sampling_Confidence_Intervals_and_Hypothesis_Testing_Assignment.ipynb",
      "provenance": [],
      "collapsed_sections": [],
      "include_colab_link": true
    },
    "kernelspec": {
      "name": "python3",
      "display_name": "Python 3"
    }
  },
  "cells": [
    {
      "cell_type": "markdown",
      "metadata": {
        "id": "view-in-github",
        "colab_type": "text"
      },
      "source": [
        "<a href=\"https://colab.research.google.com/github/gptix/DS-Unit-1-Sprint-2-Statistics/blob/master/module2/Jud%20Taylor%20-%20Assignment_LS_DS_122_Sampling_Confidence_Intervals_and_Hypothesis_Testing_Assignment.ipynb\" target=\"_parent\"><img src=\"https://colab.research.google.com/assets/colab-badge.svg\" alt=\"Open In Colab\"/></a>"
      ]
    },
    {
      "cell_type": "markdown",
      "metadata": {
        "id": "11OzdxWTM7UR",
        "colab_type": "text"
      },
      "source": [
        "## Assignment - Build a confidence interval\n",
        "\n",
        "A confidence interval refers to a neighborhood around some point estimate, the size of which is determined by the desired p-value. For instance, we might say that 52% of Americans prefer tacos to burritos, with a 95% confidence interval of +/- 5%.\n",
        "\n",
        "52% (0.52) is the point estimate, and +/- 5% (the interval $[0.47, 0.57]$) is the confidence interval. \"95% confidence\" means a p-value $\\leq 1 - 0.95 = 0.05$.\n",
        "\n",
        "In this case, the confidence interval includes $0.5$ - which is the natural null hypothesis (that half of Americans prefer tacos and half burritos, thus there is no clear favorite). So in this case, we could use the confidence interval to report that we've failed to reject the null hypothesis.\n",
        "\n",
        "But providing the full analysis with a confidence interval, including a graphical representation of it, can be a helpful and powerful way to tell your story. Done well, it is also more intuitive to a layperson than simply saying \"fail to reject the null hypothesis\" - it shows that in fact the data does *not* give a single clear result (the point estimate) but a whole range of possibilities.\n",
        "\n",
        "How is a confidence interval built, and how should it be interpreted? It does *not* mean that 95% of the data lies in that interval - instead, the frequentist interpretation is \"if we were to repeat this experiment 100 times, we would expect the average result to lie in this interval ~95 times.\"\n",
        "\n",
        "For a 95% confidence interval and a normal(-ish) distribution, you can simply remember that +/-2 standard deviations contains 95% of the probability mass, and so the 95% confidence interval based on a given sample is centered at the mean (point estimate) and has a range of +/- 2 (or technically 1.96) standard deviations.\n",
        "\n",
        "Different distributions/assumptions (90% confidence, 99% confidence) will require different math, but the overall process and interpretation (with a frequentist approach) will be the same.\n",
        "\n",
        "Your assignment - using the data from the prior module ([congressional voting records](https://archive.ics.uci.edu/ml/datasets/Congressional+Voting+Records)):\n",
        "\n",
        "\n",
        "### Confidence Intervals:\n",
        "1. Generate and numerically represent a confidence interval\n",
        "2. Graphically (with a plot) represent the confidence interval\n",
        "3. Interpret the confidence interval - what does it tell you about the data and its distribution?\n",
        "\n",
        "### Chi-squared tests:\n",
        "4. Take a dataset that we have used in the past in class that has **categorical** variables. Pick two of those categorical variables and run a chi-squared tests on that data\n",
        "  - By hand using Numpy\n",
        "  - In a single line using Scipy\n"
      ]
    },
    {
      "cell_type": "code",
      "metadata": {
        "id": "Ckcr4A4FM7cs",
        "colab_type": "code",
        "colab": {}
      },
      "source": [
        "# import code\n",
        "import pandas as pd\n",
        "import numpy as np\n",
        "import matplotlib.pyplot as plt\n",
        "import seaborn as sns\n",
        "from scipy.stats import chisquare, stats\n",
        "import random\n",
        "# mean, sigma = np.mean(a), np.std(a)"
      ],
      "execution_count": 0,
      "outputs": []
    },
    {
      "cell_type": "code",
      "metadata": {
        "id": "JigpnEy0LncN",
        "colab_type": "code",
        "outputId": "db13abcc-6884-4049-f99a-c6d5bcfbcc18",
        "colab": {
          "base_uri": "https://localhost:8080/",
          "height": 204
        }
      },
      "source": [
        "# import data\n",
        "!wget https://archive.ics.uci.edu/ml/machine-learning-databases/voting-records/house-votes-84.data"
      ],
      "execution_count": 42,
      "outputs": [
        {
          "output_type": "stream",
          "text": [
            "--2019-11-06 15:23:26--  https://archive.ics.uci.edu/ml/machine-learning-databases/voting-records/house-votes-84.data\n",
            "Resolving archive.ics.uci.edu (archive.ics.uci.edu)... 128.195.10.252\n",
            "Connecting to archive.ics.uci.edu (archive.ics.uci.edu)|128.195.10.252|:443... connected.\n",
            "HTTP request sent, awaiting response... 200 OK\n",
            "Length: 18171 (18K) [application/x-httpd-php]\n",
            "Saving to: ‘house-votes-84.data.1’\n",
            "\n",
            "\rhouse-votes-84.data   0%[                    ]       0  --.-KB/s               \rhouse-votes-84.data 100%[===================>]  17.75K  --.-KB/s    in 0.06s   \n",
            "\n",
            "2019-11-06 15:23:26 (289 KB/s) - ‘house-votes-84.data.1’ saved [18171/18171]\n",
            "\n"
          ],
          "name": "stdout"
        }
      ]
    },
    {
      "cell_type": "code",
      "metadata": {
        "id": "LR4fA5l0MAGx",
        "colab_type": "code",
        "outputId": "aa6cec1f-6ec1-4b30-878b-525328cdb1e5",
        "colab": {
          "base_uri": "https://localhost:8080/",
          "height": 221
        }
      },
      "source": [
        "# clean data\n",
        "\n",
        "# Add column headers. Replace \"?\" with \"NaN\".\n",
        "column_headers = ['party','handicapped-infants','water-project',\n",
        "                          'budget','physician-fee-freeze', 'el-salvador-aid',\n",
        "                          'religious-groups','anti-satellite-ban',\n",
        "                          'aid-to-contras','mx-missile','immigration',\n",
        "                          'synfuels', 'education', 'right-to-sue','crime','duty-free',\n",
        "                          'south-africa']\n",
        "\n",
        "df = pd.read_csv('house-votes-84.data', \n",
        "                 header=None, \n",
        "                 names=column_headers,\n",
        "                 na_values=\"?\")\n",
        "\n",
        "# convert yes/no to numeric (no=0)\n",
        "df = df.replace({'y': 1, 'n': 0})\n",
        "\n",
        "df.head()\n",
        "\n",
        "# split df into one for Republicans nd one for Democrats\n",
        "republican = df[df['party']=='republican']\n",
        "democrat = df[df['party']=='democrat']\n",
        "\n",
        "r_mx_data = republican['mx-missile'].dropna()\n",
        "\n",
        "r_mx_data"
      ],
      "execution_count": 43,
      "outputs": [
        {
          "output_type": "execute_result",
          "data": {
            "text/plain": [
              "0      0.0\n",
              "1      0.0\n",
              "7      0.0\n",
              "8      0.0\n",
              "10     0.0\n",
              "      ... \n",
              "420    0.0\n",
              "427    0.0\n",
              "430    1.0\n",
              "432    0.0\n",
              "434    0.0\n",
              "Name: mx-missile, Length: 165, dtype: float64"
            ]
          },
          "metadata": {
            "tags": []
          },
          "execution_count": 43
        }
      ]
    },
    {
      "cell_type": "markdown",
      "metadata": {
        "id": "oiVlFmM7gAuG",
        "colab_type": "text"
      },
      "source": [
        "## Generate and numerically represent a confidence interval"
      ]
    },
    {
      "cell_type": "code",
      "metadata": {
        "id": "XvBQb_vjR4Q-",
        "colab_type": "code",
        "colab": {}
      },
      "source": [
        "take = 50\n",
        "\n",
        "sample = r_mx_data.sample(take)\n",
        "\n",
        "# sample\n",
        "\n",
        "# def set_of_sets_of_samples(data, sample_count, set_count):\n",
        "#   rslt = []\n",
        "#   for x in range(set_count):\n",
        "#     rslt.append(data.sample(sample_count))\n",
        "#   return(rslt)  \n",
        "\n",
        "# set_of_samples = set_of_sets_of_samples(r_mx_data, 50, take)\n",
        "\n",
        "# set_of_samples"
      ],
      "execution_count": 0,
      "outputs": []
    },
    {
      "cell_type": "code",
      "metadata": {
        "id": "0H0ISYMfVzoX",
        "colab_type": "code",
        "colab": {}
      },
      "source": [
        "from scipy import stats\n",
        "\n",
        "def confidence_interval(data, confidence=0.95):\n",
        "  \"\"\"\n",
        "  Calculate a confidence interval around a sample mean for given data.\n",
        "  Using t-distribution and two-tailed test, default 95% confidence. \n",
        "  \n",
        "  Arguments:\n",
        "    data - iterable (list or numpy array) of sample observations\n",
        "    confidence - level of confidence for the interval\n",
        "  \n",
        "  Returns:\n",
        "    tuple of (mean, lower bound, upper bound)\n",
        "  \"\"\"\n",
        "  data = np.array(data)\n",
        "  mean = np.mean(data)\n",
        "  n = len(data)\n",
        "  stderr = np.std(data, ddof=1)/np.sqrt(n)\n",
        "  moe = stderr * stats.t.ppf((1 + confidence) / 2.0, n - 1)\n",
        "  return (mean - moe, mean, mean + moe)\n",
        "\n",
        "  # return data"
      ],
      "execution_count": 0,
      "outputs": []
    },
    {
      "cell_type": "code",
      "metadata": {
        "id": "g6z84E2lS3FT",
        "colab_type": "code",
        "outputId": "82705544-69bf-4248-a007-47a4a5cbcb4a",
        "colab": {
          "base_uri": "https://localhost:8080/",
          "height": 34
        }
      },
      "source": [
        "confidence_interval(r_mx_data)"
      ],
      "execution_count": 46,
      "outputs": [
        {
          "output_type": "execute_result",
          "data": {
            "text/plain": [
              "(0.06593485907282265, 0.11515151515151516, 0.16436817123020767)"
            ]
          },
          "metadata": {
            "tags": []
          },
          "execution_count": 46
        }
      ]
    },
    {
      "cell_type": "markdown",
      "metadata": {
        "id": "gLk7rFdshKoC",
        "colab_type": "text"
      },
      "source": [
        "## Graphically (with a plot) represent the confidence interval"
      ]
    },
    {
      "cell_type": "code",
      "metadata": {
        "id": "6FN-xrZchNx0",
        "colab_type": "code",
        "outputId": "81d9ffc4-4073-4cd9-ad16-037540c4810b",
        "colab": {
          "base_uri": "https://localhost:8080/",
          "height": 277
        }
      },
      "source": [
        "import seaborn as sns\n",
        "\n",
        "sns.kdeplot(r_mx_data)\n",
        "conf_low, mean, conf_high = confidence_interval(r_mx_data)\n",
        "plt.axvline(x=conf_low, color='red')\n",
        "plt.axvline(x=conf_high, color='red')\n",
        "plt.axvline(x=mean, color='k');"
      ],
      "execution_count": 47,
      "outputs": [
        {
          "output_type": "display_data",
          "data": {
            "image/png": "[encoded data removed]",
            "text/plain": [
              "<Figure size 432x288 with 1 Axes>"
            ]
          },
          "metadata": {
            "tags": []
          }
        }
      ]
    },
    {
      "cell_type": "markdown",
      "metadata": {
        "id": "O_oKL2C1jUFr",
        "colab_type": "text"
      },
      "source": [
        "## Interpret the confidence interval - what does it tell you about the data and its distribution?\n",
        "\n",
        "It looks to me like the null hypothesis (that there is no correlation between being an R and particularly supporting/opposing the mx-missile bill) is not supported.\n",
        "\n",
        "I conclude that the null hypothesis **should be rejected**."
      ]
    },
    {
      "cell_type": "markdown",
      "metadata": {
        "id": "UiGeDy9kkjRr",
        "colab_type": "text"
      },
      "source": [
        "## Chi-squared tests:"
      ]
    },
    {
      "cell_type": "markdown",
      "metadata": {
        "id": "SlILt2d-kbb0",
        "colab_type": "text"
      },
      "source": [
        "Take a dataset that we have used in the past in class that has categorical variables. "
      ]
    },
    {
      "cell_type": "code",
      "metadata": {
        "id": "vDKHC3Sdkv0z",
        "colab_type": "code",
        "colab": {}
      },
      "source": [
        "df = pd.read_csv('https://raw.githubusercontent.com/ryanleeallred/datasets/master/adult.csv', na_values=\" ?\")"
      ],
      "execution_count": 0,
      "outputs": []
    },
    {
      "cell_type": "code",
      "metadata": {
        "id": "1B8_uhXmzOTQ",
        "colab_type": "code",
        "colab": {}
      },
      "source": [
        "# Make education variable with fewer buckets\n",
        "df['edubucket'] = df['education']\n",
        "collegeplus = [' Bachelors', ' Masters', ' Some-college', ' Assoc-acdm', ' Assoc-voc', ' Doctorate', ' Prof-school']\n",
        "df[\"edubucket\"] = np.where(df['edubucket'].isin(collegeplus), \"CollegePlus\", df['edubucket'])\n",
        "\n",
        "lt_hs = [' 11th', ' 9th', ' 7th-8th', ' 5th-6th', ' 10th', ' 1st-4th', ' Preschool', ' 12th']\n",
        "df[\"edubucket\"] = np.where(df['edubucket'].isin(lt_hs), \"LT-HS\", df['edubucket'])\n",
        "# df.columns\n",
        "# print(df.shape)\n",
        "# df.head()"
      ],
      "execution_count": 0,
      "outputs": []
    },
    {
      "cell_type": "code",
      "metadata": {
        "id": "9CharoDPRVb3",
        "colab_type": "code",
        "colab": {
          "base_uri": "https://localhost:8080/",
          "height": 34
        },
        "outputId": "f29e7dd9-4f3e-46bd-8df4-2ce533b9c848"
      },
      "source": [
        "df['edubucket'].unique()"
      ],
      "execution_count": 50,
      "outputs": [
        {
          "output_type": "execute_result",
          "data": {
            "text/plain": [
              "array(['CollegePlus', ' HS-grad', 'LT-HS'], dtype=object)"
            ]
          },
          "metadata": {
            "tags": []
          },
          "execution_count": 50
        }
      ]
    },
    {
      "cell_type": "code",
      "metadata": {
        "id": "wy3r5OoWwERs",
        "colab_type": "code",
        "outputId": "1ee42dd4-6703-43a7-a701-0c9ed5e5f4e9",
        "colab": {
          "base_uri": "https://localhost:8080/",
          "height": 68
        }
      },
      "source": [
        "df['marital-status'].unique()"
      ],
      "execution_count": 51,
      "outputs": [
        {
          "output_type": "execute_result",
          "data": {
            "text/plain": [
              "array([' Never-married', ' Married-civ-spouse', ' Divorced',\n",
              "       ' Married-spouse-absent', ' Separated', ' Married-AF-spouse',\n",
              "       ' Widowed'], dtype=object)"
            ]
          },
          "metadata": {
            "tags": []
          },
          "execution_count": 51
        }
      ]
    },
    {
      "cell_type": "code",
      "metadata": {
        "id": "WoyadIjf0t9A",
        "colab_type": "code",
        "outputId": "93946760-c91a-409f-a8f9-1e1051fbff3a",
        "colab": {
          "base_uri": "https://localhost:8080/",
          "height": 51
        }
      },
      "source": [
        "df['marriagebucket'] = df['marital-status']\n",
        "married_not_divorced = [' Married-civ-spouse',' Married-spouse-absent', ' Separated', ' Married-AF-spouse', ' Widowed']\n",
        "df[\"marriagebucket\"] = np.where(df['marriagebucket'].isin(married_not_divorced), \"Married Not Divorced\", df['marriagebucket'])\n",
        "\n",
        "df['marriagebucket'].unique()"
      ],
      "execution_count": 52,
      "outputs": [
        {
          "output_type": "execute_result",
          "data": {
            "text/plain": [
              "array([' Never-married', 'Married Not Divorced', ' Divorced'],\n",
              "      dtype=object)"
            ]
          },
          "metadata": {
            "tags": []
          },
          "execution_count": 52
        }
      ]
    },
    {
      "cell_type": "markdown",
      "metadata": {
        "id": "L0glpBW3kri_",
        "colab_type": "text"
      },
      "source": [
        "Pick two of those categorical variables\n",
        "\n",
        "*   edubucket\n",
        "*   marriagebucket\n",
        "\n"
      ]
    },
    {
      "cell_type": "markdown",
      "metadata": {
        "id": "iL_i4uWEpsLE",
        "colab_type": "text"
      },
      "source": [
        " and run a chi-squared tests on that data\n",
        "\n",
        "\n",
        "*   By hand using Numpy"
      ]
    },
    {
      "cell_type": "code",
      "metadata": {
        "id": "a-b-pCzFqG3v",
        "colab_type": "code",
        "outputId": "15f59555-632a-482d-f680-389f26f2acb9",
        "colab": {
          "base_uri": "https://localhost:8080/",
          "height": 204
        }
      },
      "source": [
        "contingency_table = pd.crosstab(df['edubucket'], df['marriagebucket'], margins=True)\n",
        "\n",
        "contingency_table"
      ],
      "execution_count": 66,
      "outputs": [
        {
          "output_type": "execute_result",
          "data": {
            "text/html": [
              "<div>\n",
              "<style scoped>\n",
              "    .dataframe tbody tr th:only-of-type {\n",
              "        vertical-align: middle;\n",
              "    }\n",
              "\n",
              "    .dataframe tbody tr th {\n",
              "        vertical-align: top;\n",
              "    }\n",
              "\n",
              "    .dataframe thead th {\n",
              "        text-align: right;\n",
              "    }\n",
              "</style>\n",
              "<table border=\"1\" class=\"dataframe\">\n",
              "  <thead>\n",
              "    <tr style=\"text-align: right;\">\n",
              "      <th>marriagebucket</th>\n",
              "      <th>Divorced</th>\n",
              "      <th>Never-married</th>\n",
              "      <th>Married Not Divorced</th>\n",
              "      <th>All</th>\n",
              "    </tr>\n",
              "    <tr>\n",
              "      <th>edubucket</th>\n",
              "      <th></th>\n",
              "      <th></th>\n",
              "      <th></th>\n",
              "      <th></th>\n",
              "    </tr>\n",
              "  </thead>\n",
              "  <tbody>\n",
              "    <tr>\n",
              "      <th>HS-grad</th>\n",
              "      <td>1613</td>\n",
              "      <td>3089</td>\n",
              "      <td>5799</td>\n",
              "      <td>10501</td>\n",
              "    </tr>\n",
              "    <tr>\n",
              "      <th>CollegePlus</th>\n",
              "      <td>2373</td>\n",
              "      <td>5997</td>\n",
              "      <td>9437</td>\n",
              "      <td>17807</td>\n",
              "    </tr>\n",
              "    <tr>\n",
              "      <th>LT-HS</th>\n",
              "      <td>457</td>\n",
              "      <td>1597</td>\n",
              "      <td>2199</td>\n",
              "      <td>4253</td>\n",
              "    </tr>\n",
              "    <tr>\n",
              "      <th>All</th>\n",
              "      <td>4443</td>\n",
              "      <td>10683</td>\n",
              "      <td>17435</td>\n",
              "      <td>32561</td>\n",
              "    </tr>\n",
              "  </tbody>\n",
              "</table>\n",
              "</div>"
            ],
            "text/plain": [
              "marriagebucket   Divorced   Never-married  Married Not Divorced    All\n",
              "edubucket                                                             \n",
              " HS-grad             1613            3089                  5799  10501\n",
              "CollegePlus          2373            5997                  9437  17807\n",
              "LT-HS                 457            1597                  2199   4253\n",
              "All                  4443           10683                 17435  32561"
            ]
          },
          "metadata": {
            "tags": []
          },
          "execution_count": 66
        }
      ]
    },
    {
      "cell_type": "code",
      "metadata": {
        "id": "PFxbeOSVqj8X",
        "colab_type": "code",
        "outputId": "eb17e20e-31df-4af9-caca-0bdcf88180ab",
        "colab": {
          "base_uri": "https://localhost:8080/",
          "height": 34
        }
      },
      "source": [
        "# Grab the crosstab cells that correspond to HS-grad\n",
        "m_for_e_hs = contingency_table.iloc[0].values[0:3]\n",
        "m_for_e_hs"
      ],
      "execution_count": 72,
      "outputs": [
        {
          "output_type": "execute_result",
          "data": {
            "text/plain": [
              "array([1613, 3089, 5799])"
            ]
          },
          "metadata": {
            "tags": []
          },
          "execution_count": 72
        }
      ]
    },
    {
      "cell_type": "code",
      "metadata": {
        "id": "DEytKi8iamqH",
        "colab_type": "code",
        "colab": {
          "base_uri": "https://localhost:8080/",
          "height": 34
        },
        "outputId": "bae1a4b0-1f4c-4fcc-8770-55d1aad6cae1"
      },
      "source": [
        "# Grab the crosstab cells that correspond to CollegePlus\n",
        "m_for_e_cp = contingency_table.iloc[1].values[0:3]\n",
        "m_for_e_cp"
      ],
      "execution_count": 69,
      "outputs": [
        {
          "output_type": "execute_result",
          "data": {
            "text/plain": [
              "array([2373, 5997, 9437])"
            ]
          },
          "metadata": {
            "tags": []
          },
          "execution_count": 69
        }
      ]
    },
    {
      "cell_type": "code",
      "metadata": {
        "id": "2cibcerAa61L",
        "colab_type": "code",
        "colab": {
          "base_uri": "https://localhost:8080/",
          "height": 34
        },
        "outputId": "913b3e88-9f7b-4943-d27f-18e877f186b4"
      },
      "source": [
        "# Grab the crosstab cells that correspond to LT-HS\t\n",
        "m_for_e_lths = contingency_table.iloc[2].values[0:3]\n",
        "m_for_e_lths"
      ],
      "execution_count": 70,
      "outputs": [
        {
          "output_type": "execute_result",
          "data": {
            "text/plain": [
              "array([ 457, 1597, 2199])"
            ]
          },
          "metadata": {
            "tags": []
          },
          "execution_count": 70
        }
      ]
    },
    {
      "cell_type": "code",
      "metadata": {
        "id": "8gorwvt-r7OD",
        "colab_type": "code",
        "outputId": "9acb080f-4f47-4726-b714-9d563fb02d8e",
        "colab": {
          "base_uri": "https://localhost:8080/",
          "height": 331
        }
      },
      "source": [
        "import matplotlib.pyplot as plt\n",
        "import seaborn as sns\n",
        "\n",
        "# In this bar chart we can eyeball the dependence between these two variables\n",
        "# If these two variables were independent, we would expect the proportions of \n",
        "# red and blue to be consistent throughout the bars. This is not what we see.\n",
        "fig = plt.figure(figsize=(10, 5))\n",
        "sns.set(font_scale=1.8)\n",
        "N = len(marital_status_count)\n",
        "\n",
        "ind = np.arange(N)    # the x locations for the groups\n",
        "\n",
        "p1 = plt.bar(ind, m_for_e_hs)\n",
        "p2 = plt.bar(ind, m_for_e_cp)\n",
        "p3 = plt.bar(ind, m_for_e_lths)\n",
        "\n",
        "# # plt.show()"
      ],
      "execution_count": 78,
      "outputs": [
        {
          "output_type": "display_data",
          "data": {
            "image/png": "[encoded data removed]",
            "text/plain": [
              "<Figure size 720x360 with 1 Axes>"
            ]
          },
          "metadata": {
            "tags": []
          }
        }
      ]
    },
    {
      "cell_type": "markdown",
      "metadata": {
        "id": "ZQAtQckKqFL7",
        "colab_type": "text"
      },
      "source": [
        "\n",
        "*   In a single line using Scipy"
      ]
    },
    {
      "cell_type": "code",
      "metadata": {
        "id": "wj44n0Gq2uXe",
        "colab_type": "code",
        "colab": {}
      },
      "source": [
        "from scipy import stats\n",
        "\n",
        "observed = pd.crosstab(df['edubucket'], df['marriagebucket'])\n",
        "\n",
        "chi_squared, p_value, dof, expected = stats.chi2_contingency(observed)\n",
        "\n",
        "print(f\"Chi-Squared: {chi_squared}\")\n",
        "print(f\"P-value: {p_value}\")\n",
        "print(f\"Degrees of Freedom: {dof}\") \n",
        "print(\"Expected: \\n\", np.array(expected))"
      ],
      "execution_count": 0,
      "outputs": []
    },
    {
      "cell_type": "markdown",
      "metadata": {
        "id": "4ohsJhQUmEuS",
        "colab_type": "text"
      },
      "source": [
        "## Stretch goals:\n",
        "\n",
        "1. Write a summary of your findings, mixing prose and math/code/results. *Note* - yes, this is by definition a political topic. It is challenging but important to keep your writing voice *neutral* and stick to the facts of the data. Data science often involves considering controversial issues, so it's important to be sensitive about them (especially if you want to publish).\n",
        "2. Apply the techniques you learned today to your project data or other data of your choice, and write/discuss your findings here.\n",
        "3. Refactor your code so it is elegant, readable, and can be easily run for all issues."
      ]
    },
    {
      "cell_type": "code",
      "metadata": {
        "id": "r7nneeRI4kVs",
        "colab_type": "code",
        "colab": {}
      },
      "source": [
        "# Assume that the voting data is already loaded as 'df'.\n",
        "# Assume that confidence=0.95. \n",
        "# Assume that issues is defined. \n",
        "\n",
        "# Parameters: \n",
        "#   Party - 'republican' or 'democrat'\n",
        "#   Issue - one of issues\n",
        "#   \n",
        "# Improvements: \n",
        "# parameterize df\n",
        "#  - clean\n",
        "# build header list from df \n",
        "#  - need name of header strings\n",
        "# parameterize code to filter df on val of a column\n",
        "#  - Raise error if filter column has fewer than two values\n",
        "# parameterize confidence\n",
        "#  - handle no value specified\n",
        "# figure how to return plot as data object/pointer\n",
        "\n",
        "def analyze_issue(party, issue, ):\n",
        "  if (party == 'republican'):\n",
        "    data = df[df['party']=='republican']\n",
        "  else:\n",
        "    data = df[df['party']=='democrat']\n",
        "  \n",
        "  if (not(issue in ['handicapped-infants','water-project', 'budget',\n",
        "                    'physician-fee-freeze', 'el-salvador-aid', \n",
        "                    'religious-groups','anti-satellite-ban', 'aid-to-contras',\n",
        "                    'mx-missile','immigration','synfuels', 'education', \n",
        "                    'right-to-sue','crime','duty-free', 'south-africa'])):\n",
        "    return error()\n",
        "  else:\n",
        "    data = data[issue].dropna()\n",
        "\n",
        "  CI = confidence_interval(data)\n",
        "\n",
        "  sns.kdeplot(data)\n",
        "  conf_low, mean, conf_high = CI\n",
        "  plt.axvline(x=conf_low, color='red')\n",
        "  plt.axvline(x=conf_high, color='red')\n",
        "  plt.axvline(x=mean, color='k');  \n",
        "\n",
        "  return CI"
      ],
      "execution_count": 0,
      "outputs": []
    },
    {
      "cell_type": "markdown",
      "metadata": {
        "id": "nyJ3ySr7R2k9",
        "colab_type": "text"
      },
      "source": [
        "## Resources\n",
        "\n",
        "- [Interactive visualize the Chi-Squared test](https://homepage.divms.uiowa.edu/~mbognar/applets/chisq.html)\n",
        "- [Calculation of Chi-Squared test statistic](https://en.wikipedia.org/wiki/Pearson%27s_chi-squared_test)\n",
        "- [Visualization of a confidence interval generated by R code](https://commons.wikimedia.org/wiki/File:Confidence-interval.svg)\n",
        "- [Expected value of a squared standard normal](https://math.stackexchange.com/questions/264061/expected-value-calculation-for-squared-normal-distribution) (it's 1 - which is why the expected value of a Chi-Squared with $n$ degrees of freedom is $n$, as it's the sum of $n$ squared standard normals)"
      ]
    }
  ]
}