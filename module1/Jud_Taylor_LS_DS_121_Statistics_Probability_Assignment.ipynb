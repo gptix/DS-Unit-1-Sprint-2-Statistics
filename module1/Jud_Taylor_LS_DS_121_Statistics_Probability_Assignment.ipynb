{
  "nbformat": 4,
  "nbformat_minor": 0,
  "metadata": {
    "kernelspec": {
      "display_name": "Python 3",
      "language": "python",
      "name": "python3"
    },
    "language_info": {
      "codemirror_mode": {
        "name": "ipython",
        "version": 3
      },
      "file_extension": ".py",
      "mimetype": "text/x-python",
      "name": "python",
      "nbconvert_exporter": "python",
      "pygments_lexer": "ipython3",
      "version": "3.7.3"
    },
    "colab": {
      "name": "Copy of Copy of Jud Taylor - LS_DS_121_Statistics_Probability_Assignment.ipynb",
      "provenance": [],
      "include_colab_link": true
    }
  },
  "cells": [
    {
      "cell_type": "markdown",
      "metadata": {
        "id": "view-in-github",
        "colab_type": "text"
      },
      "source": [
        "<a href=\"https://colab.research.google.com/github/gptix/DS-Unit-1-Sprint-2-Statistics/blob/master/module1/Jud_Taylor_LS_DS_121_Statistics_Probability_Assignment.ipynb\" target=\"_parent\"><img src=\"https://colab.research.google.com/assets/colab-badge.svg\" alt=\"Open In Colab\"/></a>"
      ]
    },
    {
      "cell_type": "markdown",
      "metadata": {
        "id": "Sa5KWMO1ngPN",
        "colab_type": "text"
      },
      "source": [
        "<img align=\"left\" src=\"https://lever-client-logos.s3.amazonaws.com/864372b1-534c-480e-acd5-9711f850815c-1524247202159.png\" width=200>\n",
        "<br></br>\n",
        "<br></br>\n",
        "\n",
        "## *Data Science Unit 1 Sprint 2 Assignment 1*\n",
        "\n",
        "# Apply the t-test to real data\n",
        "\n",
        "Your assignment is to determine which issues have \"statistically significant\" differences between political parties in this [1980s congressional voting data](https://archive.ics.uci.edu/ml/datasets/Congressional+Voting+Records). The data consists of 435 instances (one for each congressperson), a class (democrat or republican), and 16 binary attributes (yes or no for voting for or against certain issues). Be aware - there are missing values!\n",
        "\n",
        "Your goals:\n",
        "\n",
        "1. Load and clean the data (or determine the best method to drop observations when running tests)\n",
        "2. Using hypothesis testing, find an issue that democrats support more than republicans with p < 0.01\n",
        "3. Using hypothesis testing, find an issue that republicans support more than democrats with p < 0.01\n",
        "4. Using hypothesis testing, find an issue where the difference between republicans and democrats has p > 0.1 (i.e. there may not be much of a difference)\n",
        "\n",
        "Note that this data will involve *2 sample* t-tests, because you're comparing averages across two groups (republicans and democrats) rather than a single group against a null hypothesis.\n",
        "\n",
        "Stretch goals:\n",
        "\n",
        "1. Refactor your code into functions so it's easy to rerun with arbitrary variables\n",
        "2. Apply hypothesis testing to your personal project data (for the purposes of this notebook you can type a summary of the hypothesis you formed and tested)"
      ]
    },
    {
      "cell_type": "code",
      "metadata": {
        "id": "ZKwspo2CngPP",
        "colab_type": "code",
        "colab": {}
      },
      "source": [
        "import pandas as pd\n",
        "import numpy as np\n",
        "import matplotlib.pyplot as plt\n",
        "import seaborn as sns\n",
        "from scipy.stats import ttest_ind, ttest_ind_from_stats, ttest_rel"
      ],
      "execution_count": 0,
      "outputs": []
    },
    {
      "cell_type": "code",
      "metadata": {
        "id": "BJ0AwtwAEdtv",
        "colab_type": "code",
        "outputId": "8a2a2946-033c-4f86-fc92-1fde7b5e59ac",
        "colab": {
          "base_uri": "https://localhost:8080/",
          "height": 204
        }
      },
      "source": [
        "# Get data set.\n",
        "!wget https://archive.ics.uci.edu/ml/machine-learning-databases/voting-records/house-votes-84.data"
      ],
      "execution_count": 0,
      "outputs": [
        {
          "output_type": "stream",
          "text": [
            "--2019-11-05 16:10:44--  https://archive.ics.uci.edu/ml/machine-learning-databases/voting-records/house-votes-84.data\n",
            "Resolving archive.ics.uci.edu (archive.ics.uci.edu)... 128.195.10.252\n",
            "Connecting to archive.ics.uci.edu (archive.ics.uci.edu)|128.195.10.252|:443... connected.\n",
            "HTTP request sent, awaiting response... 200 OK\n",
            "Length: 18171 (18K) [application/x-httpd-php]\n",
            "Saving to: ‘house-votes-84.data’\n",
            "\n",
            "\rhouse-votes-84.data   0%[                    ]       0  --.-KB/s               \rhouse-votes-84.data 100%[===================>]  17.75K  --.-KB/s    in 0.04s   \n",
            "\n",
            "2019-11-05 16:10:45 (460 KB/s) - ‘house-votes-84.data’ saved [18171/18171]\n",
            "\n"
          ],
          "name": "stdout"
        }
      ]
    },
    {
      "cell_type": "code",
      "metadata": {
        "id": "2ZEamqM7ExnO",
        "colab_type": "code",
        "outputId": "0d7264a2-e99a-4d80-fb30-2b6105a6b498",
        "colab": {
          "base_uri": "https://localhost:8080/",
          "height": 258
        }
      },
      "source": [
        "# Make data useable. \n",
        "\n",
        "# Add column headers. Replace \"?\" with \"NaN\".\n",
        "column_headers = ['party','handicapped-infants','water-project',\n",
        "                          'budget','physician-fee-freeze', 'el-salvador-aid',\n",
        "                          'religious-groups','anti-satellite-ban',\n",
        "                          'aid-to-contras','mx-missile','immigration',\n",
        "                          'synfuels', 'education', 'right-to-sue','crime','duty-free',\n",
        "                          'south-africa']\n",
        "\n",
        "df = pd.read_csv('house-votes-84.data', \n",
        "                 header=None, \n",
        "                 names=column_headers,\n",
        "                 na_values=\"?\")\n",
        "\n",
        "# convert yes/no to numeric (no=0)\n",
        "df = df.replace({'y': 1, 'n': 0})\n",
        "\n",
        "df.head()"
      ],
      "execution_count": 0,
      "outputs": [
        {
          "output_type": "execute_result",
          "data": {
            "text/html": [
              "<div>\n",
              "<style scoped>\n",
              "    .dataframe tbody tr th:only-of-type {\n",
              "        vertical-align: middle;\n",
              "    }\n",
              "\n",
              "    .dataframe tbody tr th {\n",
              "        vertical-align: top;\n",
              "    }\n",
              "\n",
              "    .dataframe thead th {\n",
              "        text-align: right;\n",
              "    }\n",
              "</style>\n",
              "<table border=\"1\" class=\"dataframe\">\n",
              "  <thead>\n",
              "    <tr style=\"text-align: right;\">\n",
              "      <th></th>\n",
              "      <th>party</th>\n",
              "      <th>handicapped-infants</th>\n",
              "      <th>water-project</th>\n",
              "      <th>budget</th>\n",
              "      <th>physician-fee-freeze</th>\n",
              "      <th>el-salvador-aid</th>\n",
              "      <th>religious-groups</th>\n",
              "      <th>anti-satellite-ban</th>\n",
              "      <th>aid-to-contras</th>\n",
              "      <th>mx-missile</th>\n",
              "      <th>immigration</th>\n",
              "      <th>synfuels</th>\n",
              "      <th>education</th>\n",
              "      <th>right-to-sue</th>\n",
              "      <th>crime</th>\n",
              "      <th>duty-free</th>\n",
              "      <th>south-africa</th>\n",
              "    </tr>\n",
              "  </thead>\n",
              "  <tbody>\n",
              "    <tr>\n",
              "      <th>0</th>\n",
              "      <td>republican</td>\n",
              "      <td>0.0</td>\n",
              "      <td>1.0</td>\n",
              "      <td>0.0</td>\n",
              "      <td>1.0</td>\n",
              "      <td>1.0</td>\n",
              "      <td>1.0</td>\n",
              "      <td>0.0</td>\n",
              "      <td>0.0</td>\n",
              "      <td>0.0</td>\n",
              "      <td>1.0</td>\n",
              "      <td>NaN</td>\n",
              "      <td>1.0</td>\n",
              "      <td>1.0</td>\n",
              "      <td>1.0</td>\n",
              "      <td>0.0</td>\n",
              "      <td>1.0</td>\n",
              "    </tr>\n",
              "    <tr>\n",
              "      <th>1</th>\n",
              "      <td>republican</td>\n",
              "      <td>0.0</td>\n",
              "      <td>1.0</td>\n",
              "      <td>0.0</td>\n",
              "      <td>1.0</td>\n",
              "      <td>1.0</td>\n",
              "      <td>1.0</td>\n",
              "      <td>0.0</td>\n",
              "      <td>0.0</td>\n",
              "      <td>0.0</td>\n",
              "      <td>0.0</td>\n",
              "      <td>0.0</td>\n",
              "      <td>1.0</td>\n",
              "      <td>1.0</td>\n",
              "      <td>1.0</td>\n",
              "      <td>0.0</td>\n",
              "      <td>NaN</td>\n",
              "    </tr>\n",
              "    <tr>\n",
              "      <th>2</th>\n",
              "      <td>democrat</td>\n",
              "      <td>NaN</td>\n",
              "      <td>1.0</td>\n",
              "      <td>1.0</td>\n",
              "      <td>NaN</td>\n",
              "      <td>1.0</td>\n",
              "      <td>1.0</td>\n",
              "      <td>0.0</td>\n",
              "      <td>0.0</td>\n",
              "      <td>0.0</td>\n",
              "      <td>0.0</td>\n",
              "      <td>1.0</td>\n",
              "      <td>0.0</td>\n",
              "      <td>1.0</td>\n",
              "      <td>1.0</td>\n",
              "      <td>0.0</td>\n",
              "      <td>0.0</td>\n",
              "    </tr>\n",
              "    <tr>\n",
              "      <th>3</th>\n",
              "      <td>democrat</td>\n",
              "      <td>0.0</td>\n",
              "      <td>1.0</td>\n",
              "      <td>1.0</td>\n",
              "      <td>0.0</td>\n",
              "      <td>NaN</td>\n",
              "      <td>1.0</td>\n",
              "      <td>0.0</td>\n",
              "      <td>0.0</td>\n",
              "      <td>0.0</td>\n",
              "      <td>0.0</td>\n",
              "      <td>1.0</td>\n",
              "      <td>0.0</td>\n",
              "      <td>1.0</td>\n",
              "      <td>0.0</td>\n",
              "      <td>0.0</td>\n",
              "      <td>1.0</td>\n",
              "    </tr>\n",
              "    <tr>\n",
              "      <th>4</th>\n",
              "      <td>democrat</td>\n",
              "      <td>1.0</td>\n",
              "      <td>1.0</td>\n",
              "      <td>1.0</td>\n",
              "      <td>0.0</td>\n",
              "      <td>1.0</td>\n",
              "      <td>1.0</td>\n",
              "      <td>0.0</td>\n",
              "      <td>0.0</td>\n",
              "      <td>0.0</td>\n",
              "      <td>0.0</td>\n",
              "      <td>1.0</td>\n",
              "      <td>NaN</td>\n",
              "      <td>1.0</td>\n",
              "      <td>1.0</td>\n",
              "      <td>1.0</td>\n",
              "      <td>1.0</td>\n",
              "    </tr>\n",
              "  </tbody>\n",
              "</table>\n",
              "</div>"
            ],
            "text/plain": [
              "        party  handicapped-infants  ...  duty-free  south-africa\n",
              "0  republican                  0.0  ...        0.0           1.0\n",
              "1  republican                  0.0  ...        0.0           NaN\n",
              "2    democrat                  NaN  ...        0.0           0.0\n",
              "3    democrat                  0.0  ...        0.0           1.0\n",
              "4    democrat                  1.0  ...        1.0           1.0\n",
              "\n",
              "[5 rows x 17 columns]"
            ]
          },
          "metadata": {
            "tags": []
          },
          "execution_count": 5
        }
      ]
    },
    {
      "cell_type": "code",
      "metadata": {
        "id": "S1mOWbvqF8M7",
        "colab_type": "code",
        "outputId": "90a2cf22-33e8-417f-954a-d212f8b6857c",
        "colab": {
          "base_uri": "https://localhost:8080/",
          "height": 258
        }
      },
      "source": [
        "republican = df[df['party']=='republican']\n",
        "republican.head()"
      ],
      "execution_count": 0,
      "outputs": [
        {
          "output_type": "execute_result",
          "data": {
            "text/html": [
              "<div>\n",
              "<style scoped>\n",
              "    .dataframe tbody tr th:only-of-type {\n",
              "        vertical-align: middle;\n",
              "    }\n",
              "\n",
              "    .dataframe tbody tr th {\n",
              "        vertical-align: top;\n",
              "    }\n",
              "\n",
              "    .dataframe thead th {\n",
              "        text-align: right;\n",
              "    }\n",
              "</style>\n",
              "<table border=\"1\" class=\"dataframe\">\n",
              "  <thead>\n",
              "    <tr style=\"text-align: right;\">\n",
              "      <th></th>\n",
              "      <th>party</th>\n",
              "      <th>handicapped-infants</th>\n",
              "      <th>water-project</th>\n",
              "      <th>budget</th>\n",
              "      <th>physician-fee-freeze</th>\n",
              "      <th>el-salvador-aid</th>\n",
              "      <th>religious-groups</th>\n",
              "      <th>anti-satellite-ban</th>\n",
              "      <th>aid-to-contras</th>\n",
              "      <th>mx-missile</th>\n",
              "      <th>immigration</th>\n",
              "      <th>synfuels</th>\n",
              "      <th>education</th>\n",
              "      <th>right-to-sue</th>\n",
              "      <th>crime</th>\n",
              "      <th>duty-free</th>\n",
              "      <th>south-africa</th>\n",
              "    </tr>\n",
              "  </thead>\n",
              "  <tbody>\n",
              "    <tr>\n",
              "      <th>0</th>\n",
              "      <td>republican</td>\n",
              "      <td>0.0</td>\n",
              "      <td>1.0</td>\n",
              "      <td>0.0</td>\n",
              "      <td>1.0</td>\n",
              "      <td>1.0</td>\n",
              "      <td>1.0</td>\n",
              "      <td>0.0</td>\n",
              "      <td>0.0</td>\n",
              "      <td>0.0</td>\n",
              "      <td>1.0</td>\n",
              "      <td>NaN</td>\n",
              "      <td>1.0</td>\n",
              "      <td>1.0</td>\n",
              "      <td>1.0</td>\n",
              "      <td>0.0</td>\n",
              "      <td>1.0</td>\n",
              "    </tr>\n",
              "    <tr>\n",
              "      <th>1</th>\n",
              "      <td>republican</td>\n",
              "      <td>0.0</td>\n",
              "      <td>1.0</td>\n",
              "      <td>0.0</td>\n",
              "      <td>1.0</td>\n",
              "      <td>1.0</td>\n",
              "      <td>1.0</td>\n",
              "      <td>0.0</td>\n",
              "      <td>0.0</td>\n",
              "      <td>0.0</td>\n",
              "      <td>0.0</td>\n",
              "      <td>0.0</td>\n",
              "      <td>1.0</td>\n",
              "      <td>1.0</td>\n",
              "      <td>1.0</td>\n",
              "      <td>0.0</td>\n",
              "      <td>NaN</td>\n",
              "    </tr>\n",
              "    <tr>\n",
              "      <th>7</th>\n",
              "      <td>republican</td>\n",
              "      <td>0.0</td>\n",
              "      <td>1.0</td>\n",
              "      <td>0.0</td>\n",
              "      <td>1.0</td>\n",
              "      <td>1.0</td>\n",
              "      <td>1.0</td>\n",
              "      <td>0.0</td>\n",
              "      <td>0.0</td>\n",
              "      <td>0.0</td>\n",
              "      <td>0.0</td>\n",
              "      <td>0.0</td>\n",
              "      <td>0.0</td>\n",
              "      <td>1.0</td>\n",
              "      <td>1.0</td>\n",
              "      <td>NaN</td>\n",
              "      <td>1.0</td>\n",
              "    </tr>\n",
              "    <tr>\n",
              "      <th>8</th>\n",
              "      <td>republican</td>\n",
              "      <td>0.0</td>\n",
              "      <td>1.0</td>\n",
              "      <td>0.0</td>\n",
              "      <td>1.0</td>\n",
              "      <td>1.0</td>\n",
              "      <td>1.0</td>\n",
              "      <td>0.0</td>\n",
              "      <td>0.0</td>\n",
              "      <td>0.0</td>\n",
              "      <td>0.0</td>\n",
              "      <td>0.0</td>\n",
              "      <td>1.0</td>\n",
              "      <td>1.0</td>\n",
              "      <td>1.0</td>\n",
              "      <td>0.0</td>\n",
              "      <td>1.0</td>\n",
              "    </tr>\n",
              "    <tr>\n",
              "      <th>10</th>\n",
              "      <td>republican</td>\n",
              "      <td>0.0</td>\n",
              "      <td>1.0</td>\n",
              "      <td>0.0</td>\n",
              "      <td>1.0</td>\n",
              "      <td>1.0</td>\n",
              "      <td>0.0</td>\n",
              "      <td>0.0</td>\n",
              "      <td>0.0</td>\n",
              "      <td>0.0</td>\n",
              "      <td>0.0</td>\n",
              "      <td>NaN</td>\n",
              "      <td>NaN</td>\n",
              "      <td>1.0</td>\n",
              "      <td>1.0</td>\n",
              "      <td>0.0</td>\n",
              "      <td>0.0</td>\n",
              "    </tr>\n",
              "  </tbody>\n",
              "</table>\n",
              "</div>"
            ],
            "text/plain": [
              "         party  handicapped-infants  ...  duty-free  south-africa\n",
              "0   republican                  0.0  ...        0.0           1.0\n",
              "1   republican                  0.0  ...        0.0           NaN\n",
              "7   republican                  0.0  ...        NaN           1.0\n",
              "8   republican                  0.0  ...        0.0           1.0\n",
              "10  republican                  0.0  ...        0.0           0.0\n",
              "\n",
              "[5 rows x 17 columns]"
            ]
          },
          "metadata": {
            "tags": []
          },
          "execution_count": 6
        }
      ]
    },
    {
      "cell_type": "code",
      "metadata": {
        "id": "E_U-4AuzGLFP",
        "colab_type": "code",
        "outputId": "5ddcf0b5-0201-4ad8-f52e-a852ab8ef2cf",
        "colab": {
          "base_uri": "https://localhost:8080/",
          "height": 258
        }
      },
      "source": [
        "democrat = df[df['party']=='democrat']\n",
        "democrat.head()"
      ],
      "execution_count": 0,
      "outputs": [
        {
          "output_type": "execute_result",
          "data": {
            "text/html": [
              "<div>\n",
              "<style scoped>\n",
              "    .dataframe tbody tr th:only-of-type {\n",
              "        vertical-align: middle;\n",
              "    }\n",
              "\n",
              "    .dataframe tbody tr th {\n",
              "        vertical-align: top;\n",
              "    }\n",
              "\n",
              "    .dataframe thead th {\n",
              "        text-align: right;\n",
              "    }\n",
              "</style>\n",
              "<table border=\"1\" class=\"dataframe\">\n",
              "  <thead>\n",
              "    <tr style=\"text-align: right;\">\n",
              "      <th></th>\n",
              "      <th>party</th>\n",
              "      <th>handicapped-infants</th>\n",
              "      <th>water-project</th>\n",
              "      <th>budget</th>\n",
              "      <th>physician-fee-freeze</th>\n",
              "      <th>el-salvador-aid</th>\n",
              "      <th>religious-groups</th>\n",
              "      <th>anti-satellite-ban</th>\n",
              "      <th>aid-to-contras</th>\n",
              "      <th>mx-missile</th>\n",
              "      <th>immigration</th>\n",
              "      <th>synfuels</th>\n",
              "      <th>education</th>\n",
              "      <th>right-to-sue</th>\n",
              "      <th>crime</th>\n",
              "      <th>duty-free</th>\n",
              "      <th>south-africa</th>\n",
              "    </tr>\n",
              "  </thead>\n",
              "  <tbody>\n",
              "    <tr>\n",
              "      <th>2</th>\n",
              "      <td>democrat</td>\n",
              "      <td>NaN</td>\n",
              "      <td>1.0</td>\n",
              "      <td>1.0</td>\n",
              "      <td>NaN</td>\n",
              "      <td>1.0</td>\n",
              "      <td>1.0</td>\n",
              "      <td>0.0</td>\n",
              "      <td>0.0</td>\n",
              "      <td>0.0</td>\n",
              "      <td>0.0</td>\n",
              "      <td>1.0</td>\n",
              "      <td>0.0</td>\n",
              "      <td>1.0</td>\n",
              "      <td>1.0</td>\n",
              "      <td>0.0</td>\n",
              "      <td>0.0</td>\n",
              "    </tr>\n",
              "    <tr>\n",
              "      <th>3</th>\n",
              "      <td>democrat</td>\n",
              "      <td>0.0</td>\n",
              "      <td>1.0</td>\n",
              "      <td>1.0</td>\n",
              "      <td>0.0</td>\n",
              "      <td>NaN</td>\n",
              "      <td>1.0</td>\n",
              "      <td>0.0</td>\n",
              "      <td>0.0</td>\n",
              "      <td>0.0</td>\n",
              "      <td>0.0</td>\n",
              "      <td>1.0</td>\n",
              "      <td>0.0</td>\n",
              "      <td>1.0</td>\n",
              "      <td>0.0</td>\n",
              "      <td>0.0</td>\n",
              "      <td>1.0</td>\n",
              "    </tr>\n",
              "    <tr>\n",
              "      <th>4</th>\n",
              "      <td>democrat</td>\n",
              "      <td>1.0</td>\n",
              "      <td>1.0</td>\n",
              "      <td>1.0</td>\n",
              "      <td>0.0</td>\n",
              "      <td>1.0</td>\n",
              "      <td>1.0</td>\n",
              "      <td>0.0</td>\n",
              "      <td>0.0</td>\n",
              "      <td>0.0</td>\n",
              "      <td>0.0</td>\n",
              "      <td>1.0</td>\n",
              "      <td>NaN</td>\n",
              "      <td>1.0</td>\n",
              "      <td>1.0</td>\n",
              "      <td>1.0</td>\n",
              "      <td>1.0</td>\n",
              "    </tr>\n",
              "    <tr>\n",
              "      <th>5</th>\n",
              "      <td>democrat</td>\n",
              "      <td>0.0</td>\n",
              "      <td>1.0</td>\n",
              "      <td>1.0</td>\n",
              "      <td>0.0</td>\n",
              "      <td>1.0</td>\n",
              "      <td>1.0</td>\n",
              "      <td>0.0</td>\n",
              "      <td>0.0</td>\n",
              "      <td>0.0</td>\n",
              "      <td>0.0</td>\n",
              "      <td>0.0</td>\n",
              "      <td>0.0</td>\n",
              "      <td>1.0</td>\n",
              "      <td>1.0</td>\n",
              "      <td>1.0</td>\n",
              "      <td>1.0</td>\n",
              "    </tr>\n",
              "    <tr>\n",
              "      <th>6</th>\n",
              "      <td>democrat</td>\n",
              "      <td>0.0</td>\n",
              "      <td>1.0</td>\n",
              "      <td>0.0</td>\n",
              "      <td>1.0</td>\n",
              "      <td>1.0</td>\n",
              "      <td>1.0</td>\n",
              "      <td>0.0</td>\n",
              "      <td>0.0</td>\n",
              "      <td>0.0</td>\n",
              "      <td>0.0</td>\n",
              "      <td>0.0</td>\n",
              "      <td>0.0</td>\n",
              "      <td>NaN</td>\n",
              "      <td>1.0</td>\n",
              "      <td>1.0</td>\n",
              "      <td>1.0</td>\n",
              "    </tr>\n",
              "  </tbody>\n",
              "</table>\n",
              "</div>"
            ],
            "text/plain": [
              "      party  handicapped-infants  water-project  ...  crime  duty-free  south-africa\n",
              "2  democrat                  NaN            1.0  ...    1.0        0.0           0.0\n",
              "3  democrat                  0.0            1.0  ...    0.0        0.0           1.0\n",
              "4  democrat                  1.0            1.0  ...    1.0        1.0           1.0\n",
              "5  democrat                  0.0            1.0  ...    1.0        1.0           1.0\n",
              "6  democrat                  0.0            1.0  ...    1.0        1.0           1.0\n",
              "\n",
              "[5 rows x 17 columns]"
            ]
          },
          "metadata": {
            "tags": []
          },
          "execution_count": 7
        }
      ]
    },
    {
      "cell_type": "markdown",
      "metadata": {
        "id": "q7pD47dmMAmJ",
        "colab_type": "text"
      },
      "source": [
        "##Using hypothesis testing, find an issue that democrats support more than republicans with p < 0.01\n",
        "###Two Sample t-test/\n",
        "\n",
        "1) Null Hypothesis: There is no difference between average voting rates (levels of support) for a bill bill between Democrats and Republicans in the house of representatives.\n",
        "\n",
        "$\\bar{x}_{1} == \\bar{x}_{2}$\n",
        "\n",
        "Where $\\bar{x}_{1}$ is the mean of Republican votes and $\\bar{x}_{2}$ is the mean of Democrat votes.\n",
        "\n",
        "2) Alternative Hypothesis: \n",
        "\n",
        "$\\bar{x}_{1} \\neq \\bar{x}_{2}$\n",
        "\n",
        "Levels of support between the two parties differ. \n",
        "\n",
        "3) 99% Confidence Level"
      ]
    },
    {
      "cell_type": "code",
      "metadata": {
        "id": "2Sg0NTeQEsQr",
        "colab_type": "code",
        "colab": {}
      },
      "source": [
        "# Using hypothesis testing, find an issue that democrats support more than republicans with p < 0.01\n",
        "\n",
        "confidence_int = .01\n",
        "#CHANGE\n",
        "\n",
        "# Run ttest from scipy by specifying two series (specific columns in a specific dataframes).\n",
        "# ttest_ind(republican['water-project'], democrat['water-project'])\n",
        "# NaN's exist.\n",
        "\n",
        "ttest_ind(republican['water-project'], democrat['water-project'], nan_policy='omit')\n",
        "\n",
        "# 4) T-statistic: .089\n",
        "\n",
        "# 5) P-value: .929\n",
        "\n",
        "pvalue=0.9291556823993485"
      ],
      "execution_count": 0,
      "outputs": []
    },
    {
      "cell_type": "code",
      "metadata": {
        "id": "uk_fOg5KWbEe",
        "colab_type": "code",
        "outputId": "04a6c93f-3934-4e4b-a8f7-48433081d0ee",
        "colab": {
          "base_uri": "https://localhost:8080/",
          "height": 34
        }
      },
      "source": [
        "issues = ['handicapped-infants','water-project', 'budget',\n",
        "          'physician-fee-freeze', 'el-salvador-aid', 'religious-groups',\n",
        "          'anti-satellite-ban', 'aid-to-contras','mx-missile','immigration',\n",
        "          'synfuels', 'education', 'right-to-sue','crime','duty-free',\n",
        "          'south-africa']\n",
        "                          \n",
        "def test_issue(issue):\n",
        "  t_stat, p_val = ttest_ind(republican[issue], democrat[issue], nan_policy='omit')\n",
        "  return (print(issue + \" --- p_val: \" + str(p_val) ))\n",
        "\n",
        "test_issue('handicapped-infants')\n"
      ],
      "execution_count": 0,
      "outputs": [
        {
          "output_type": "stream",
          "text": [
            "handicapped-infants --- p_val: 1.613440327937243e-18\n"
          ],
          "name": "stdout"
        }
      ]
    },
    {
      "cell_type": "code",
      "metadata": {
        "id": "FjRZ74j0Q2vk",
        "colab_type": "code",
        "outputId": "bd530016-4528-44bc-8bb7-af80abdb321b",
        "colab": {
          "base_uri": "https://localhost:8080/",
          "height": 289
        }
      },
      "source": [
        "def test_issues(issues):\n",
        "  for i in issues:\n",
        "    test_issue(i)\n",
        "\n",
        "test_issues(issues)"
      ],
      "execution_count": 0,
      "outputs": [
        {
          "output_type": "stream",
          "text": [
            "handicapped-infants --- p_val: 1.613440327937243e-18\n",
            "water-project --- p_val: 0.9291556823993485\n",
            "budget --- p_val: 2.0703402795404463e-77\n",
            "physician-fee-freeze --- p_val: 1.994262314074344e-177\n",
            "el-salvador-aid --- p_val: 5.600520111729011e-68\n",
            "religious-groups --- p_val: 2.3936722520597287e-20\n",
            "anti-satellite-ban --- p_val: 8.521033017443867e-31\n",
            "aid-to-contras --- p_val: 2.82471841372357e-54\n",
            "mx-missile --- p_val: 5.03079265310811e-47\n",
            "immigration --- p_val: 0.08330248490425066\n",
            "synfuels --- p_val: 1.5759322301054064e-15\n",
            "education --- p_val: 1.8834203990450192e-64\n",
            "right-to-sue --- p_val: 1.2278581709672758e-34\n",
            "crime --- p_val: 9.952342705606092e-47\n",
            "duty-free --- p_val: 5.997697174347365e-32\n",
            "south-africa --- p_val: 3.652674361672226e-11\n"
          ],
          "name": "stdout"
        }
      ]
    },
    {
      "cell_type": "code",
      "metadata": {
        "id": "EpF2Sybpg-h3",
        "colab_type": "code",
        "outputId": "c099c484-b87f-4141-a410-c8c31ae26e54",
        "colab": {
          "base_uri": "https://localhost:8080/",
          "height": 34
        }
      },
      "source": [
        "def get_pval(issue):\n",
        "  pval, probability = ttest_ind(republican[issue], democrat[issue], nan_policy='omit')\n",
        "  return pval\n",
        "\n",
        "get_pval('water-project')"
      ],
      "execution_count": 0,
      "outputs": [
        {
          "output_type": "execute_result",
          "data": {
            "text/plain": [
              "0.08896538137868286"
            ]
          },
          "metadata": {
            "tags": []
          },
          "execution_count": 11
        }
      ]
    },
    {
      "cell_type": "code",
      "metadata": {
        "id": "HpILL_fWhjou",
        "colab_type": "code",
        "colab": {}
      },
      "source": [
        "def reject_yn (issue, conf_int):\n",
        "  return (get_pval(issue) < (1 - conf_int))"
      ],
      "execution_count": 0,
      "outputs": []
    },
    {
      "cell_type": "code",
      "metadata": {
        "id": "HmawZQ6lidVP",
        "colab_type": "code",
        "outputId": "170c0b15-2d64-414d-c210-52be6f42d564",
        "colab": {
          "base_uri": "https://localhost:8080/",
          "height": 34
        }
      },
      "source": [
        "reject_yn('water-project', 0.01)"
      ],
      "execution_count": 0,
      "outputs": [
        {
          "output_type": "execute_result",
          "data": {
            "text/plain": [
              "True"
            ]
          },
          "metadata": {
            "tags": []
          },
          "execution_count": 13
        }
      ]
    },
    {
      "cell_type": "code",
      "metadata": {
        "id": "IbdGv-TripTu",
        "colab_type": "code",
        "outputId": "54734406-6b41-4978-fae7-d63cae205cd1",
        "colab": {
          "base_uri": "https://localhost:8080/",
          "height": 289
        }
      },
      "source": [
        "for i in issues:\n",
        "  print(\" --- Reject null hypothesis for issue: \" + i + \": \" + str(reject_yn(i, 0.01)))"
      ],
      "execution_count": 0,
      "outputs": [
        {
          "output_type": "stream",
          "text": [
            " --- Reject null hypothesis for issue: handicapped-infants: True\n",
            " --- Reject null hypothesis for issue: water-project: True\n",
            " --- Reject null hypothesis for issue: budget: True\n",
            " --- Reject null hypothesis for issue: physician-fee-freeze: False\n",
            " --- Reject null hypothesis for issue: el-salvador-aid: False\n",
            " --- Reject null hypothesis for issue: religious-groups: False\n",
            " --- Reject null hypothesis for issue: anti-satellite-ban: True\n",
            " --- Reject null hypothesis for issue: aid-to-contras: True\n",
            " --- Reject null hypothesis for issue: mx-missile: True\n",
            " --- Reject null hypothesis for issue: immigration: False\n",
            " --- Reject null hypothesis for issue: synfuels: True\n",
            " --- Reject null hypothesis for issue: education: False\n",
            " --- Reject null hypothesis for issue: right-to-sue: False\n",
            " --- Reject null hypothesis for issue: crime: False\n",
            " --- Reject null hypothesis for issue: duty-free: True\n",
            " --- Reject null hypothesis for issue: south-africa: True\n"
          ],
          "name": "stdout"
        }
      ]
    },
    {
      "cell_type": "code",
      "metadata": {
        "id": "ggQ4wBCmjh3Y",
        "colab_type": "code",
        "colab": {}
      },
      "source": [
        "def find_reject_nulls(issues):\n",
        "  print(\"issues with rejected null hypotheses:\")\n",
        "  for i in issues:\n",
        "    if (reject_yn(i, 0.01)):\n",
        "      print(i)"
      ],
      "execution_count": 0,
      "outputs": []
    },
    {
      "cell_type": "code",
      "metadata": {
        "id": "Ak_YGkybkHM7",
        "colab_type": "code",
        "outputId": "3d53a125-f0b3-4142-9475-c68044e2aa58",
        "colab": {
          "base_uri": "https://localhost:8080/",
          "height": 187
        }
      },
      "source": [
        "find_reject_nulls(issues)"
      ],
      "execution_count": 0,
      "outputs": [
        {
          "output_type": "stream",
          "text": [
            "issues with rejected null hypotheses:\n",
            "handicapped-infants\n",
            "water-project\n",
            "budget\n",
            "anti-satellite-ban\n",
            "aid-to-contras\n",
            "mx-missile\n",
            "synfuels\n",
            "duty-free\n",
            "south-africa\n"
          ],
          "name": "stdout"
        }
      ]
    },
    {
      "cell_type": "code",
      "metadata": {
        "id": "zLHDlbvS5eEl",
        "colab_type": "code",
        "colab": {}
      },
      "source": [
        "issues_with_rejected_null_hypotheses = ['handicapped-infants', \n",
        "                                        'water-project',\n",
        "                                        'budget',\n",
        "                                        'anti-satellite-ban',\n",
        "                                        'aid-to-contras',\n",
        "                                        'mx-missile',\n",
        "                                        'synfuels',\n",
        "                                        'duty-free',\n",
        "                                        'south-africa']"
      ],
      "execution_count": 0,
      "outputs": []
    },
    {
      "cell_type": "code",
      "metadata": {
        "id": "5cJFmb_c53c9",
        "colab_type": "code",
        "outputId": "e6571a0b-549b-42ae-cf33-be57831dface",
        "colab": {
          "base_uri": "https://localhost:8080/",
          "height": 51
        }
      },
      "source": [
        "republican_count = len(republican)\n",
        "democrat_count = len(democrat)\n",
        "print(\"republicans: \" + str(republican_count))\n",
        "print(\"democrats: \" + str(democrat_count))"
      ],
      "execution_count": 0,
      "outputs": [
        {
          "output_type": "stream",
          "text": [
            "republicans: 168\n",
            "democrats: 267\n"
          ],
          "name": "stdout"
        }
      ]
    },
    {
      "cell_type": "code",
      "metadata": {
        "id": "gAOQYKF-5eOx",
        "colab_type": "code",
        "outputId": "ae4b6500-f990-43c2-e3c6-58e94ab7fd04",
        "colab": {
          "base_uri": "https://localhost:8080/",
          "height": 34
        }
      },
      "source": [
        "def percent_voted(issue):\n",
        "  d_vote_percent = 100 * democrat[issue].sum()/democrat_count\n",
        "  r_vote_percent = 100 * republican[issue].sum()/republican_count\n",
        "  if (d_vote_percent > r_vote_percent):\n",
        "    print(\"Null Hypothesis rejected: Democrats voted greater percentage (\"\n",
        "           + str(round (d_vote_percent,1)) + \"%) than Republicans (\" +\n",
        "          str(round(r_vote_percent,1)) + \"%) on: \" + issue)\n",
        "  else:\n",
        "    print(\"Null Hypothesis rejected: Republicans voted greater percentage than Democrats on: \" + issue)\n",
        "  # return d_vote_percent\n",
        "\n",
        "#test\n",
        "percent_voted('water-project')"
      ],
      "execution_count": 0,
      "outputs": [
        {
          "output_type": "stream",
          "text": [
            "Null Hypothesis rejected: Democrats voted greater percentage (44.9%) than Republicans (44.6%) on: water-project\n"
          ],
          "name": "stdout"
        }
      ]
    },
    {
      "cell_type": "code",
      "metadata": {
        "id": "mhyqm2nl5eZW",
        "colab_type": "code",
        "outputId": "b930fbb7-6cb5-4160-fffb-f431fe34a450",
        "colab": {
          "base_uri": "https://localhost:8080/",
          "height": 170
        }
      },
      "source": [
        "for issue in issues_with_rejected_null_hypotheses:\n",
        "  percent_voted(issue)"
      ],
      "execution_count": 0,
      "outputs": [
        {
          "output_type": "stream",
          "text": [
            "Null Hypothesis rejected: Democrats voted greater percentage (58.4%) than Republicans (18.5%) on: handicapped-infants\n",
            "Null Hypothesis rejected: Democrats voted greater percentage (44.9%) than Republicans (44.6%) on: water-project\n",
            "Null Hypothesis rejected: Democrats voted greater percentage (86.5%) than Republicans (13.1%) on: budget\n",
            "Null Hypothesis rejected: Democrats voted greater percentage (74.9%) than Republicans (23.2%) on: anti-satellite-ban\n",
            "Null Hypothesis rejected: Democrats voted greater percentage (81.6%) than Republicans (14.3%) on: aid-to-contras\n",
            "Null Hypothesis rejected: Democrats voted greater percentage (70.4%) than Republicans (11.3%) on: mx-missile\n",
            "Null Hypothesis rejected: Democrats voted greater percentage (48.3%) than Republicans (12.5%) on: synfuels\n",
            "Null Hypothesis rejected: Democrats voted greater percentage (59.9%) than Republicans (8.3%) on: duty-free\n",
            "Null Hypothesis rejected: Democrats voted greater percentage (64.8%) than Republicans (57.1%) on: south-africa\n"
          ],
          "name": "stdout"
        }
      ]
    },
    {
      "cell_type": "markdown",
      "metadata": {
        "id": "LJHj83fv6G_q",
        "colab_type": "text"
      },
      "source": [
        "## This answers both\n",
        "* Using hypothesis testing, find an issue that democrats support more than republicans with p < 0.01\n",
        "* Using hypothesis testing, find an issue that republicans support more than democrats with p < 0.01\n"
      ]
    },
    {
      "cell_type": "markdown",
      "metadata": {
        "id": "q6Ejb_vmHsBe",
        "colab_type": "text"
      },
      "source": [
        "## Using hypothesis testing, find an issue where the difference between republicans and democrats has p > 0.1 (i.e. there may not be much of a difference)"
      ]
    },
    {
      "cell_type": "code",
      "metadata": {
        "id": "ufdtxZwmPaL8",
        "colab_type": "code",
        "colab": {}
      },
      "source": [
        "def find_p_gt_ten_percent(issues):\n",
        "  print(\"Issues with p > 0.1:\")\n",
        "  for i in issues:\n",
        "    t_stat, p_val =  ttest_ind(republican[issue], democrat[issue], nan_policy='omit')\n",
        "    if (p_val > 0.1):\n",
        "      print(i)"
      ],
      "execution_count": 0,
      "outputs": []
    },
    {
      "cell_type": "markdown",
      "metadata": {
        "id": "oi4KKvaLQXnZ",
        "colab_type": "text"
      },
      "source": [
        "#Stretch goals:\n",
        "\n",
        "Refactor your code into functions so it's easy to rerun with arbitrary variables."
      ]
    },
    {
      "cell_type": "code",
      "metadata": {
        "id": "VUueXF1jQg0Y",
        "colab_type": "code",
        "outputId": "76ce9a57-78cd-4bf1-8500-9177ef929c3b",
        "colab": {
          "base_uri": "https://localhost:8080/",
          "height": 1000
        }
      },
      "source": [
        "## Analyze two isomorphic data frames, data column by data column.\n",
        "## Produce a list of dictionaries holding pertinant results.\n",
        "def analyze_dfs(df1, df2, cols_to_examine, conf_interval):\n",
        "  col_dicts = []\n",
        " \n",
        "  for col in cols_to_examine:\n",
        "    column_dict = {'column' : col}\n",
        "\n",
        "    t_stat, p_val = ttest_ind(df1[col], df2[col], nan_policy='omit')\n",
        "    data = { 't statistic' : t_stat,\n",
        "            'p value' : p_val}\n",
        "    if (p_val < conf_interval):\n",
        "      data['reject null hypo'] = True\n",
        "    else:\n",
        "      data['reject null hypo'] = False\n",
        "      \n",
        "    column_dict['data'] = data\n",
        "    col_dicts.append(column_dict)\n",
        "    \n",
        "  rslts = {'column dicts' : col_dicts, \"confidence interval\" : conf_interval}\n",
        "\n",
        "  return rslts\n",
        "\n",
        "analysis = analyze_dfs(republican, democrat, issues, 0.01)\n",
        "\n",
        "analysis"
      ],
      "execution_count": 0,
      "outputs": [
        {
          "output_type": "execute_result",
          "data": {
            "text/plain": [
              "{'column dicts': [{'column': 'handicapped-infants',\n",
              "   'data': {'p value': 1.613440327937243e-18,\n",
              "    'reject null hypo': True,\n",
              "    't statistic': -9.205264294809222}},\n",
              "  {'column': 'water-project',\n",
              "   'data': {'p value': 0.9291556823993485,\n",
              "    'reject null hypo': False,\n",
              "    't statistic': 0.08896538137868286}},\n",
              "  {'column': 'budget',\n",
              "   'data': {'p value': 2.0703402795404463e-77,\n",
              "    'reject null hypo': True,\n",
              "    't statistic': -23.21277691701378}},\n",
              "  {'column': 'physician-fee-freeze',\n",
              "   'data': {'p value': 1.994262314074344e-177,\n",
              "    'reject null hypo': True,\n",
              "    't statistic': 49.36708157301406}},\n",
              "  {'column': 'el-salvador-aid',\n",
              "   'data': {'p value': 5.600520111729011e-68,\n",
              "    'reject null hypo': True,\n",
              "    't statistic': 21.13669261173219}},\n",
              "  {'column': 'religious-groups',\n",
              "   'data': {'p value': 2.3936722520597287e-20,\n",
              "    'reject null hypo': True,\n",
              "    't statistic': 9.737575825219457}},\n",
              "  {'column': 'anti-satellite-ban',\n",
              "   'data': {'p value': 8.521033017443867e-31,\n",
              "    'reject null hypo': True,\n",
              "    't statistic': -12.526187929077842}},\n",
              "  {'column': 'aid-to-contras',\n",
              "   'data': {'p value': 2.82471841372357e-54,\n",
              "    'reject null hypo': True,\n",
              "    't statistic': -18.052093200819733}},\n",
              "  {'column': 'mx-missile',\n",
              "   'data': {'p value': 5.03079265310811e-47,\n",
              "    'reject null hypo': True,\n",
              "    't statistic': -16.437503268542994}},\n",
              "  {'column': 'immigration',\n",
              "   'data': {'p value': 0.08330248490425066,\n",
              "    'reject null hypo': False,\n",
              "    't statistic': 1.7359117329695164}},\n",
              "  {'column': 'synfuels',\n",
              "   'data': {'p value': 1.5759322301054064e-15,\n",
              "    'reject null hypo': True,\n",
              "    't statistic': -8.293603989407588}},\n",
              "  {'column': 'education',\n",
              "   'data': {'p value': 1.8834203990450192e-64,\n",
              "    'reject null hypo': True,\n",
              "    't statistic': 20.500685724563073}},\n",
              "  {'column': 'right-to-sue',\n",
              "   'data': {'p value': 1.2278581709672758e-34,\n",
              "    'reject null hypo': True,\n",
              "    't statistic': 13.51064251060933}},\n",
              "  {'column': 'crime',\n",
              "   'data': {'p value': 9.952342705606092e-47,\n",
              "    'reject null hypo': True,\n",
              "    't statistic': 16.342085656197696}},\n",
              "  {'column': 'duty-free',\n",
              "   'data': {'p value': 5.997697174347365e-32,\n",
              "    'reject null hypo': True,\n",
              "    't statistic': -12.853146132542978}},\n",
              "  {'column': 'south-africa',\n",
              "   'data': {'p value': 3.652674361672226e-11,\n",
              "    'reject null hypo': True,\n",
              "    't statistic': -6.849454815841208}}],\n",
              " 'confidence interval': 0.01}"
            ]
          },
          "metadata": {
            "tags": []
          },
          "execution_count": 60
        }
      ]
    }
  ]
}