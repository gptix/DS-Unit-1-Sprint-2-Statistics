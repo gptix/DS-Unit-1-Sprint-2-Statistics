{
  "nbformat": 4,
  "nbformat_minor": 0,
  "metadata": {
    "colab": {
      "name": "Jud Drive - LS_DS_123_Introduction_to_Bayesian_Inference_Assignment.ipynb",
      "provenance": [],
      "collapsed_sections": [],
      "include_colab_link": true
    },
    "kernelspec": {
      "name": "python3",
      "display_name": "Python 3"
    }
  },
  "cells": [
    {
      "cell_type": "markdown",
      "metadata": {
        "id": "view-in-github",
        "colab_type": "text"
      },
      "source": [
        "<a href=\"https://colab.research.google.com/github/gptix/DS-Unit-1-Sprint-2-Statistics/blob/master/module3/Jud%20Taylor%20-%20LS_DS_123_Introduction_to_Bayesian_Inference_Assignment.ipynb\" target=\"_parent\"><img src=\"https://colab.research.google.com/assets/colab-badge.svg\" alt=\"Open In Colab\"/></a>"
      ]
    },
    {
      "cell_type": "markdown",
      "metadata": {
        "id": "H7OLbevlbd_Z",
        "colab_type": "text"
      },
      "source": [
        "# Lambda School Data Science Module 123\n",
        "\n",
        "## Introduction to Bayesian Inference\n",
        "\n",
        "\n"
      ]
    },
    {
      "cell_type": "markdown",
      "metadata": {
        "id": "P-DzzRk5bf0z",
        "colab_type": "text"
      },
      "source": [
        "## Assignment - Code it up!\n",
        "\n",
        "We used pure math to apply Bayes Theorem to drug tests. Now write Python code to reproduce the results! This is purposefully open ended - you'll have to think about how you should represent probabilities and events. You can and should look things up.\n",
        "\n",
        "Specific goals/targets:\n",
        "\n",
        "### 1) Write a function \n",
        "\n",
        "`def prob_drunk_given_positive(prob_drunk_prior, false_positive_rate):` \n",
        "\n",
        "You should only truly need these two values in order to apply Bayes Theorem. In this example, imagine that individuals are taking a breathalyzer test with an 8% false positive rate, a 100% true positive rate, and that our prior belief about drunk driving in the population is 1/1000. \n",
        " - What is the probability that a person is drunk after one positive breathalyzer test?\n",
        "\n"
      ]
    },
    {
      "cell_type": "code",
      "metadata": {
        "id": "GQWI8YTjHVYm",
        "colab_type": "code",
        "colab": {
          "base_uri": "https://localhost:8080/",
          "height": 34
        },
        "outputId": "60f67e40-09c3-47cf-ee56-75369395aa09"
      },
      "source": [
        "def prob_drunk_given_positive(prob_drunk_prior, false_positive_rate, true_positive_rate):\n",
        "# A positive result is either an accurate test on a DD, or a FALSE positive on an NDD\n",
        "  \n",
        "  # case 1 - actually a DD\n",
        "  accurate_positive = prob_drunk_prior * true_positive_rate\n",
        "  # case 2 - not a DD, false positive\n",
        "  false_positive = (1 - prob_drunk_prior) * false_positive_rate\n",
        "\n",
        "  # total of two probabilities\n",
        "  total_positive = accurate_positive + false_positive\n",
        "\n",
        "  #\n",
        "  return (accurate_positive / total_positive)\n",
        "\n",
        "\n",
        "\n",
        "prob_drunk_given_positive(0.001, 0.08, 1.00)\n"
      ],
      "execution_count": 8,
      "outputs": [
        {
          "output_type": "execute_result",
          "data": {
            "text/plain": [
              "0.012357884330202669"
            ]
          },
          "metadata": {
            "tags": []
          },
          "execution_count": 8
        }
      ]
    },
    {
      "cell_type": "markdown",
      "metadata": {
        "id": "hutAD2nOPVvK",
        "colab_type": "text"
      },
      "source": [
        "- What is the probability that a person is drunk after two positive breathalyzer tests?\n"
      ]
    },
    {
      "cell_type": "code",
      "metadata": {
        "id": "J6-vVf8rPZfv",
        "colab_type": "code",
        "colab": {
          "base_uri": "https://localhost:8080/",
          "height": 34
        },
        "outputId": "794c2122-5523-4135-f632-b97057cace33"
      },
      "source": [
        "prob_drunk_given_positive(0.012357884330202669, 0.08, 1.00)"
      ],
      "execution_count": 19,
      "outputs": [
        {
          "output_type": "execute_result",
          "data": {
            "text/plain": [
              "0.13525210993291495"
            ]
          },
          "metadata": {
            "tags": []
          },
          "execution_count": 19
        }
      ]
    },
    {
      "cell_type": "markdown",
      "metadata": {
        "id": "ebZGRQSIPaFV",
        "colab_type": "text"
      },
      "source": [
        " - How many positive breathalyzer tests are needed in order to have a probability that's greater than 95% that a person is drunk beyond the legal limit?"
      ]
    },
    {
      "cell_type": "code",
      "metadata": {
        "id": "bHh4wMHZLaej",
        "colab_type": "code",
        "colab": {
          "base_uri": "https://localhost:8080/",
          "height": 34
        },
        "outputId": "6fa8629d-6349-4f59-9b2b-20578d6b0207"
      },
      "source": [
        "def prob_drunk_given_positive_rcrsv(prob_drunk_prior, false_positive_rate, \n",
        "                                    true_positive_rate, \n",
        "                                    conf_target = 0.95,    # when to stop\n",
        "                                    prior_iterations = 0): # count test cycles\n",
        "\n",
        "  \"\"\"\n",
        "  Calculate the number of tests returning positive, in a row, needed to be\n",
        "  confident that the positive result is not a false positive result. Also \n",
        "  return the final probability of 'positive' being true.\n",
        "  \"\"\"\n",
        "  \n",
        "  # A positive result is either an accurate test on a DD, or a FALSE positive \n",
        "  # on an NDD.\n",
        "  \n",
        "  cycle_count = prior_iterations + 1 # Count number of cycles run.\n",
        "\n",
        "  # case 1 - actually a DD\n",
        "  accurate_positive = prob_drunk_prior * true_positive_rate\n",
        "  # case 2 - not a DD, false positive\n",
        "  false_positive = (1 - prob_drunk_prior) * false_positive_rate\n",
        "\n",
        "  # total of two probabilities\n",
        "  total_positive = accurate_positive + false_positive\n",
        "\n",
        "  # chance that positive is accurate\n",
        "  prob_accurate_pos = accurate_positive / total_positive\n",
        "\n",
        "  if (prob_accurate_pos >= conf_target):\n",
        "    return (cycle_count, prob_accurate_pos)\n",
        "  else: \n",
        "    return (prob_drunk_given_positive_rcrsv(prob_accurate_pos, false_positive_rate, \n",
        "                                    true_positive_rate, \n",
        "                                    conf_target = conf_target,\n",
        "                                    prior_iterations = cycle_count))\n",
        "  \n",
        "prob_drunk_given_positive_rcrsv(0.001, 0.08, 1.00)"
      ],
      "execution_count": 21,
      "outputs": [
        {
          "output_type": "execute_result",
          "data": {
            "text/plain": [
              "(4, 0.9606895076105054)"
            ]
          },
          "metadata": {
            "tags": []
          },
          "execution_count": 21
        }
      ]
    },
    {
      "cell_type": "markdown",
      "metadata": {
        "id": "9oOMUZ8rHe5I",
        "colab_type": "text"
      },
      "source": [
        "### 2) Explore `scipy.stats.bayes_mvs`  \n",
        "Read its documentation, and experiment with it on data you've tested in other ways earlier this week.\n",
        " - Create a visualization comparing the results of a Bayesian approach to a traditional/frequentist approach. (with a large sample size they should look close to identical, however, take this opportunity to practice visualizing condfidence intervals in general. The following are some potential ways that you could visualize confidence intervals on your graph:\n",
        "  - [Matplotlib Error Bars](https://matplotlib.org/3.1.1/api/_as_gen/matplotlib.pyplot.errorbar.html)\n",
        "  - [Seaborn barplot with error bars](https://seaborn.pydata.org/generated/seaborn.barplot.html)\n",
        "  - [Vertical ines to show bounds of confidence interval](https://www.simplypsychology.org/confidence-interval.jpg)\n",
        "  - [Confidence Intervals on Box Plots](https://matplotlib.org/3.1.1/api/_as_gen/matplotlib.axes.Axes.boxplot.html)\n",
        "\n",
        "### 3) In your own words, summarize the difference between Bayesian and Frequentist statistics\n",
        "\n",
        "If you're unsure where to start, check out [this blog post of Bayes theorem with Python](https://dataconomy.com/2015/02/introduction-to-bayes-theorem-with-python/).\n"
      ]
    },
    {
      "cell_type": "code",
      "metadata": {
        "id": "xpVhZyUnbf7o",
        "colab_type": "code",
        "colab": {}
      },
      "source": [
        "# The Bayesian approach to statistics allows us to make use of knowledge of \n",
        "# context in which measurements are made, and to use knowledge gained through\n",
        "# measurement to be used in a recursive process of applying a meaurement\n",
        "# function with contextual knowledge improving with each recursion."
      ],
      "execution_count": 0,
      "outputs": []
    },
    {
      "cell_type": "markdown",
      "metadata": {
        "id": "uWgWjp3PQ3Sq",
        "colab_type": "text"
      },
      "source": [
        "## Resources"
      ]
    },
    {
      "cell_type": "markdown",
      "metadata": {
        "id": "QRgHqmYIQ9qn",
        "colab_type": "text"
      },
      "source": [
        "- [Worked example of Bayes rule calculation](https://en.wikipedia.org/wiki/Bayes'_theorem#Examples) (helpful as it fully breaks out the denominator)\n",
        "- [Source code for mvsdist in scipy](https://github.com/scipy/scipy/blob/90534919e139d2a81c24bf08341734ff41a3db12/scipy/stats/morestats.py#L139)"
      ]
    },
    {
      "cell_type": "markdown",
      "metadata": {
        "id": "GP7Jv1XvwtkX",
        "colab_type": "text"
      },
      "source": [
        "## Stretch Goals:\n",
        "\n",
        "- Go back and study the content from Modules 1 & 2 to make sure that you're really comfortable with them.\n",
        "- Apply a Bayesian technique to a problem you previously worked (in an assignment or project work) on from a frequentist (standard) perspective\n",
        "- Check out [PyMC3](https://docs.pymc.io/) (note this goes beyond hypothesis tests into modeling) - read the guides and work through some examples\n",
        "- Take PyMC3 further - see if you can build something with it!"
      ]
    },
    {
      "cell_type": "code",
      "metadata": {
        "id": "iDi0eFr1x-v_",
        "colab_type": "code",
        "colab": {}
      },
      "source": [
        ""
      ],
      "execution_count": 0,
      "outputs": []
    }
  ]
}